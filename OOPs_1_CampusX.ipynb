{
  "nbformat": 4,
  "nbformat_minor": 0,
  "metadata": {
    "colab": {
      "provenance": [],
      "cell_execution_strategy": "setup",
      "authorship_tag": "ABX9TyPFfpM9SroGTdIJK+tDPM2G",
      "include_colab_link": true
    },
    "kernelspec": {
      "name": "python3",
      "display_name": "Python 3"
    },
    "language_info": {
      "name": "python"
    }
  },
  "cells": [
    {
      "cell_type": "markdown",
      "metadata": {
        "id": "view-in-github",
        "colab_type": "text"
      },
      "source": [
        "<a href=\"https://colab.research.google.com/github/harshsinha-12/OOPs/blob/main/OOPs_1_CampusX.ipynb\" target=\"_parent\"><img src=\"https://colab.research.google.com/assets/colab-badge.svg\" alt=\"Open In Colab\"/></a>"
      ]
    },
    {
      "cell_type": "code",
      "execution_count": 1,
      "metadata": {
        "colab": {
          "base_uri": "https://localhost:8080/",
          "height": 197
        },
        "id": "kWA-I3d59ccW",
        "outputId": "085c86de-4b00-4742-ef9b-6b97001351c4"
      },
      "outputs": [
        {
          "output_type": "error",
          "ename": "AttributeError",
          "evalue": "ignored",
          "traceback": [
            "\u001b[0;31m---------------------------------------------------------------------------\u001b[0m",
            "\u001b[0;31mAttributeError\u001b[0m                            Traceback (most recent call last)",
            "\u001b[0;32m<ipython-input-1-6a3a183c66d3>\u001b[0m in \u001b[0;36m<cell line: 2>\u001b[0;34m()\u001b[0m\n\u001b[1;32m      1\u001b[0m \u001b[0mL\u001b[0m \u001b[0;34m=\u001b[0m \u001b[0;34m[\u001b[0m\u001b[0;36m1\u001b[0m\u001b[0;34m,\u001b[0m\u001b[0;36m2\u001b[0m\u001b[0;34m,\u001b[0m\u001b[0;36m3\u001b[0m\u001b[0;34m]\u001b[0m\u001b[0;34m\u001b[0m\u001b[0;34m\u001b[0m\u001b[0m\n\u001b[0;32m----> 2\u001b[0;31m \u001b[0mL\u001b[0m\u001b[0;34m.\u001b[0m\u001b[0mupper\u001b[0m\u001b[0;34m(\u001b[0m\u001b[0;34m)\u001b[0m \u001b[0;31m# look at error (object)\u001b[0m\u001b[0;34m\u001b[0m\u001b[0;34m\u001b[0m\u001b[0m\n\u001b[0m",
            "\u001b[0;31mAttributeError\u001b[0m: 'list' object has no attribute 'upper'"
          ]
        }
      ],
      "source": [
        "L = [1,2,3]\n",
        "L.upper() # look at error (object)"
      ]
    },
    {
      "cell_type": "code",
      "source": [
        "print(type(L))"
      ],
      "metadata": {
        "colab": {
          "base_uri": "https://localhost:8080/"
        },
        "id": "ntjlqe1b-rCf",
        "outputId": "11a5561c-46f8-44cd-8ecf-031131d24ec3"
      },
      "execution_count": 3,
      "outputs": [
        {
          "output_type": "stream",
          "name": "stdout",
          "text": [
            "<class 'list'>\n"
          ]
        }
      ]
    },
    {
      "cell_type": "code",
      "source": [
        "# List is a class, L is object"
      ],
      "metadata": {
        "id": "jo2rnqMXBPT_"
      },
      "execution_count": 4,
      "outputs": []
    },
    {
      "cell_type": "code",
      "source": [
        "# Class has rules and functions like L.append\n",
        "# Cars is a class, Tata Motors is an object....object follows rules of class"
      ],
      "metadata": {
        "id": "ylmwP6KOBgBu"
      },
      "execution_count": 5,
      "outputs": []
    },
    {
      "cell_type": "code",
      "source": [
        "#Class has attributes/properties, functions/behaviour"
      ],
      "metadata": {
        "id": "QfctO37MCNnn"
      },
      "execution_count": 6,
      "outputs": []
    },
    {
      "cell_type": "code",
      "source": [
        "# All data types are class\n",
        "#Each variable of datatype are object"
      ],
      "metadata": {
        "id": "s42RDcj1B4jg"
      },
      "execution_count": 7,
      "outputs": []
    },
    {
      "cell_type": "code",
      "source": [
        "#object is an instance of class"
      ],
      "metadata": {
        "id": "a39VuyCoCAqD"
      },
      "execution_count": 8,
      "outputs": []
    },
    {
      "cell_type": "markdown",
      "source": [
        "# Syntax to create an object"
      ],
      "metadata": {
        "id": "EVz7gRoSCrPU"
      }
    },
    {
      "cell_type": "code",
      "source": [
        "#obj name = classname()\n",
        "s = str()\n",
        "l = list()"
      ],
      "metadata": {
        "id": "bynt8buQCobn"
      },
      "execution_count": 9,
      "outputs": []
    },
    {
      "cell_type": "code",
      "source": [
        "l"
      ],
      "metadata": {
        "colab": {
          "base_uri": "https://localhost:8080/"
        },
        "id": "IAMxk3rOC5NZ",
        "outputId": "2405d061-2da5-4cfe-9525-dc94502258df"
      },
      "execution_count": 10,
      "outputs": [
        {
          "output_type": "execute_result",
          "data": {
            "text/plain": [
              "[]"
            ]
          },
          "metadata": {},
          "execution_count": 10
        }
      ]
    },
    {
      "cell_type": "code",
      "source": [
        "s"
      ],
      "metadata": {
        "colab": {
          "base_uri": "https://localhost:8080/",
          "height": 35
        },
        "id": "C-9IqZXFH1uN",
        "outputId": "867e0137-5334-4604-ebc0-c3289bd3c64e"
      },
      "execution_count": 11,
      "outputs": [
        {
          "output_type": "execute_result",
          "data": {
            "text/plain": [
              "''"
            ],
            "application/vnd.google.colaboratory.intrinsic+json": {
              "type": "string"
            }
          },
          "metadata": {},
          "execution_count": 11
        }
      ]
    },
    {
      "cell_type": "markdown",
      "source": [
        "# Pascal Case\n",
        "\n",
        "HelloWorld, MyATM, HiFrom"
      ],
      "metadata": {
        "id": "ekaHjNb4IUSD"
      }
    },
    {
      "cell_type": "code",
      "source": [
        "class ATM:\n",
        "\n",
        "  # constructor\n",
        "  def __init__(self):\n",
        "    self.pin = ''\n",
        "    self.balance = 0"
      ],
      "metadata": {
        "id": "LCBz0O9xH19R"
      },
      "execution_count": 12,
      "outputs": []
    },
    {
      "cell_type": "code",
      "source": [
        "obj = ATM() # created object"
      ],
      "metadata": {
        "id": "Yjgx_3PBh9mZ"
      },
      "execution_count": 13,
      "outputs": []
    },
    {
      "cell_type": "code",
      "source": [
        "print(type(obj))"
      ],
      "metadata": {
        "colab": {
          "base_uri": "https://localhost:8080/"
        },
        "id": "CNC9F1EDjhCN",
        "outputId": "fb7be0da-b5a9-44a8-c329-5b769cab1074"
      },
      "execution_count": 14,
      "outputs": [
        {
          "output_type": "stream",
          "name": "stdout",
          "text": [
            "<class '__main__.ATM'>\n"
          ]
        }
      ]
    },
    {
      "cell_type": "code",
      "source": [
        "class ATM:\n",
        "\n",
        "  # constructor # special function -> superpower\n",
        "  def __init__(self):\n",
        "    self.pin = ''\n",
        "    self.balance = 0\n",
        "    self.menu()\n",
        "\n",
        "  def menu(self):\n",
        "    user_input = input(\"\"\"Hi How can I Help you?\n",
        "    1. Press 1 to create pin:\n",
        "    2. Press 2 to change pin:\n",
        "    3. Press 3 to check balance:\n",
        "    4. Press 4 to withdraw:\n",
        "    5. Press anything else to exit:\"\"\")"
      ],
      "metadata": {
        "id": "pUcSxIkKjpRg"
      },
      "execution_count": 17,
      "outputs": []
    },
    {
      "cell_type": "code",
      "source": [
        "ATM()"
      ],
      "metadata": {
        "colab": {
          "base_uri": "https://localhost:8080/"
        },
        "id": "fMQcXwcCnt-R",
        "outputId": "89ae8256-ae2e-41fd-f10e-18634bc74fb3"
      },
      "execution_count": 18,
      "outputs": [
        {
          "name": "stdout",
          "output_type": "stream",
          "text": [
            "Hi How can I Help you?\n",
            "    1. Press 1 to create pin:\n",
            "    2. Press 2 to change pin:\n",
            "    3. Press 3 to check balance:\n",
            "    4. Press 4 to withdraw:\n",
            "    5. Press anything else to exit:1\n"
          ]
        },
        {
          "output_type": "execute_result",
          "data": {
            "text/plain": [
              "<__main__.ATM at 0x7c4a470d2650>"
            ]
          },
          "metadata": {},
          "execution_count": 18
        }
      ]
    },
    {
      "cell_type": "code",
      "source": [
        "class ATM:\n",
        "\n",
        "  # constructor # special function -> superpower\n",
        "  def __init__(self):\n",
        "    self.pin = ''\n",
        "    self.balance = 0\n",
        "    self.menu()\n",
        "\n",
        "  def menu(self):\n",
        "    user_input = input(\"\"\"Hi How can I Help you?\n",
        "    1. Press 1 to create pin:\n",
        "    2. Press 2 to change pin:\n",
        "    3. Press 3 to check balance:\n",
        "    4. Press 4 to withdraw:\n",
        "    5. Press anything else to exit:\"\"\")\n",
        "\n",
        "    if user_input == '1':\n",
        "      self.create_pin()\n",
        "    elif user_input == '2':\n",
        "      pass\n",
        "    elif user_input == '3':\n",
        "      pass\n",
        "    elif user_input == '4':\n",
        "      pass\n",
        "    else:\n",
        "      exit()\n",
        "\n",
        "  def create_pin(self):\n",
        "    user_pin = input(\"Enter your PIN:\")\n",
        "    self.pin = user_pin\n",
        "\n",
        "    user_balance = int(input(\"Enter Balance\"))\n",
        "    self.balance = user_balance\n",
        "\n",
        "    print(\"PIN Created Sucessfully\")\n"
      ],
      "metadata": {
        "id": "cHpx7yFTnxaA"
      },
      "execution_count": 19,
      "outputs": []
    },
    {
      "cell_type": "code",
      "source": [
        "ATM()"
      ],
      "metadata": {
        "colab": {
          "base_uri": "https://localhost:8080/"
        },
        "id": "mOqxdvcGo9GV",
        "outputId": "c34673d3-cd14-4165-97cf-be78488dea41"
      },
      "execution_count": 20,
      "outputs": [
        {
          "output_type": "stream",
          "name": "stdout",
          "text": [
            "Hi How can I Help you?\n",
            "    1. Press 1 to create pin:\n",
            "    2. Press 2 to change pin:\n",
            "    3. Press 3 to check balance:\n",
            "    4. Press 4 to withdraw:\n",
            "    5. Press anything else to exit:1\n",
            "Enter your PIN:1\n",
            "Enter Balance10000\n",
            "PIN Created Sucessfully\n"
          ]
        },
        {
          "output_type": "execute_result",
          "data": {
            "text/plain": [
              "<__main__.ATM at 0x7c4a470d3940>"
            ]
          },
          "metadata": {},
          "execution_count": 20
        }
      ]
    },
    {
      "cell_type": "code",
      "source": [
        "class ATM:\n",
        "\n",
        "  # constructor # special function -> superpower\n",
        "  def __init__(self):\n",
        "    self.pin = ''\n",
        "    self.balance = 0\n",
        "    self.menu()\n",
        "\n",
        "  def menu(self):\n",
        "    user_input = input(\"\"\"Hi How can I Help you?\n",
        "    1. Press 1 to create pin:\n",
        "    2. Press 2 to change pin:\n",
        "    3. Press 3 to check balance:\n",
        "    4. Press 4 to withdraw:\n",
        "    5. Press anything else to exit:\"\"\")\n",
        "\n",
        "    if user_input == '1':\n",
        "      self.create_pin()\n",
        "    elif user_input == '2':\n",
        "      self.change_pin()\n",
        "    elif user_input == '3':\n",
        "      pass\n",
        "    elif user_input == '4':\n",
        "      pass\n",
        "    else:\n",
        "      exit()\n",
        "\n",
        "  def create_pin(self):\n",
        "    user_pin = input(\"Enter your PIN:\")\n",
        "    self.pin = user_pin\n",
        "\n",
        "    user_balance = int(input(\"Enter Balance\"))\n",
        "    self.balance = user_balance\n",
        "\n",
        "    print(\"PIN Created Sucessfully\")\n",
        "    self.menu()\n",
        "\n",
        "  def change_pin(self):\n",
        "    old_pin = input('Enter Old Pin')\n",
        "\n",
        "    if old_pin == self.pin:\n",
        "      # Let him change the pin\n",
        "\n",
        "      new_pin = input(\"Enter New Pin:\")\n",
        "      self.pin = new_pin\n",
        "      print(\"Pin Changed Successfully\")\n",
        "\n",
        "      self.menu()\n",
        "    else:\n",
        "      print(\"Nahi karne de sakta re baba\")\n"
      ],
      "metadata": {
        "id": "nEgNHeUvo-Vw"
      },
      "execution_count": 3,
      "outputs": []
    },
    {
      "cell_type": "code",
      "source": [
        "ATM()"
      ],
      "metadata": {
        "colab": {
          "base_uri": "https://localhost:8080/"
        },
        "id": "_Y8Fc5JYck8Z",
        "outputId": "29d86f4e-b997-4b7c-aa1c-33fb662ece2d"
      },
      "execution_count": 4,
      "outputs": [
        {
          "output_type": "stream",
          "name": "stdout",
          "text": [
            "Hi How can I Help you?\n",
            "    1. Press 1 to create pin:\n",
            "    2. Press 2 to change pin:\n",
            "    3. Press 3 to check balance:\n",
            "    4. Press 4 to withdraw:\n",
            "    5. Press anything else to exit:1\n",
            "Enter your PIN:1234\n",
            "Enter Balance10000\n",
            "PIN Created Sucessfully\n",
            "Hi How can I Help you?\n",
            "    1. Press 1 to create pin:\n",
            "    2. Press 2 to change pin:\n",
            "    3. Press 3 to check balance:\n",
            "    4. Press 4 to withdraw:\n",
            "    5. Press anything else to exit:2\n",
            "Enter Old Pin4321\n",
            "Nahi karne de sakta re baba\n"
          ]
        },
        {
          "output_type": "execute_result",
          "data": {
            "text/plain": [
              "<__main__.ATM at 0x7a81125f55d0>"
            ]
          },
          "metadata": {},
          "execution_count": 4
        }
      ]
    },
    {
      "cell_type": "code",
      "source": [
        "class ATM:\n",
        "\n",
        "  # constructor # special function -> superpower\n",
        "  def __init__(self): # method\n",
        "    self.pin = ''\n",
        "    self.balance = 0\n",
        "    self.menu()\n",
        "\n",
        "  def menu(self): # function inside class are call method\n",
        "    user_input = input(\"\"\"Hi How can I Help you?\n",
        "    1. Press 1 to create pin:\n",
        "    2. Press 2 to change pin:\n",
        "    3. Press 3 to check balance:\n",
        "    4. Press 4 to withdraw:\n",
        "    5. Press anything else to exit: \"\"\")\n",
        "\n",
        "    if user_input == '1':\n",
        "      self.create_pin()\n",
        "    elif user_input == '2':\n",
        "      self.change_pin()\n",
        "    elif user_input == '3':\n",
        "      self.check_balance()\n",
        "    elif user_input == '4':\n",
        "      self.withdraw()\n",
        "    else:\n",
        "      exit()\n",
        "\n",
        "  def create_pin(self):\n",
        "    user_pin = input(\"Enter your PIN: \")\n",
        "    self.pin = user_pin\n",
        "\n",
        "    user_balance = int(input(\"Enter Balance: \"))\n",
        "    self.balance = user_balance\n",
        "\n",
        "    print(\"PIN Created Sucessfully\")\n",
        "    self.menu()\n",
        "\n",
        "  def change_pin(self):\n",
        "    old_pin = input('Enter Old PIN: ')\n",
        "\n",
        "    if old_pin == self.pin:\n",
        "      # Let him change the pin\n",
        "\n",
        "      new_pin = input(\"Enter New Pin: \")\n",
        "      self.pin = new_pin\n",
        "      print(\"Pin Changed Successfully\")\n",
        "\n",
        "    else:\n",
        "      print(\"Wrong Old PIN\")\n",
        "    self.menu()\n",
        "\n",
        "  def check_balance(self):\n",
        "    user_pin = input(\"Enter your PIN: \")\n",
        "    if user_pin == self.pin:\n",
        "      print(f\"Your balance is {self.balance}\")\n",
        "    else:\n",
        "      print(\"Wrong PIN\")\n",
        "    self.menu()\n",
        "\n",
        "  def withdraw(self):\n",
        "    user_pin = input(\"Enter your PIN: \")\n",
        "    if user_pin == self.pin:\n",
        "      amt = int(input(\"Enter the amount\"))\n",
        "      if amt <= self.balance:\n",
        "        self.balance = self.balance - amt\n",
        "        print(f\"Withdrawl Successful, balance is {self.balance}\")\n",
        "      else:\n",
        "        print(\"Not enough money in account\")\n",
        "    else:\n",
        "      print(\"PIN is incorrect\")\n",
        "    self.menu()\n",
        "\n"
      ],
      "metadata": {
        "id": "r-acezPJclwr"
      },
      "execution_count": 5,
      "outputs": []
    },
    {
      "cell_type": "code",
      "source": [
        "obj = ATM()"
      ],
      "metadata": {
        "colab": {
          "base_uri": "https://localhost:8080/"
        },
        "id": "BjTkclTEl305",
        "outputId": "82d55cf8-52cf-490b-da5e-0ada2517aef3"
      },
      "execution_count": 6,
      "outputs": [
        {
          "name": "stdout",
          "output_type": "stream",
          "text": [
            "Hi How can I Help you?\n",
            "    1. Press 1 to create pin:\n",
            "    2. Press 2 to change pin:\n",
            "    3. Press 3 to check balance:\n",
            "    4. Press 4 to withdraw:\n",
            "    5. Press anything else to exit:1\n",
            "Enter your PIN:1234\n",
            "Enter Balance10000\n",
            "PIN Created Sucessfully\n",
            "Hi How can I Help you?\n",
            "    1. Press 1 to create pin:\n",
            "    2. Press 2 to change pin:\n",
            "    3. Press 3 to check balance:\n",
            "    4. Press 4 to withdraw:\n",
            "    5. Press anything else to exit:2\n",
            "Enter Old PIN1234\n",
            "Enter New Pin:4321\n",
            "Pin Changed Successfully\n",
            "Hi How can I Help you?\n",
            "    1. Press 1 to create pin:\n",
            "    2. Press 2 to change pin:\n",
            "    3. Press 3 to check balance:\n",
            "    4. Press 4 to withdraw:\n",
            "    5. Press anything else to exit:3\n",
            "Enter your PIN:4321\n",
            "Your balance is 10000\n",
            "Hi How can I Help you?\n",
            "    1. Press 1 to create pin:\n",
            "    2. Press 2 to change pin:\n",
            "    3. Press 3 to check balance:\n",
            "    4. Press 4 to withdraw:\n",
            "    5. Press anything else to exit:4\n",
            "Enter your PIN:6969\n",
            "PIN is incorrect\n",
            "Hi How can I Help you?\n",
            "    1. Press 1 to create pin:\n",
            "    2. Press 2 to change pin:\n",
            "    3. Press 3 to check balance:\n",
            "    4. Press 4 to withdraw:\n",
            "    5. Press anything else to exit:4\n",
            "Enter your PIN:4321\n",
            "Enter the amount6969\n",
            "Withdrawl Successful, balance is 3031\n",
            "Hi How can I Help you?\n",
            "    1. Press 1 to create pin:\n",
            "    2. Press 2 to change pin:\n",
            "    3. Press 3 to check balance:\n",
            "    4. Press 4 to withdraw:\n",
            "    5. Press anything else to exit:3\n",
            "Enter your PIN:4321\n",
            "Your balance is 3031\n",
            "Hi How can I Help you?\n",
            "    1. Press 1 to create pin:\n",
            "    2. Press 2 to change pin:\n",
            "    3. Press 3 to check balance:\n",
            "    4. Press 4 to withdraw:\n",
            "    5. Press anything else to exit:7\n"
          ]
        }
      ]
    },
    {
      "cell_type": "code",
      "source": [
        "L = [1,2,3]\n",
        "len(L) #function\n",
        "L.append(4) #method, inside list class"
      ],
      "metadata": {
        "id": "vVsR0jbjl9ZT"
      },
      "execution_count": 4,
      "outputs": []
    },
    {
      "cell_type": "code",
      "source": [
        "L"
      ],
      "metadata": {
        "colab": {
          "base_uri": "https://localhost:8080/"
        },
        "id": "ZvDbYglzwrq9",
        "outputId": "c5cf20d5-5faf-4707-a29e-d1a8b8d5db56"
      },
      "execution_count": 3,
      "outputs": [
        {
          "output_type": "execute_result",
          "data": {
            "text/plain": [
              "[1, 2, 3, 4]"
            ]
          },
          "metadata": {},
          "execution_count": 3
        }
      ]
    },
    {
      "cell_type": "code",
      "source": [],
      "metadata": {
        "id": "SnDTOD0Mwva-"
      },
      "execution_count": null,
      "outputs": []
    }
  ]
}